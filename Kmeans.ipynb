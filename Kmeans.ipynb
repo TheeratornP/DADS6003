{
  "nbformat": 4,
  "nbformat_minor": 0,
  "metadata": {
    "colab": {
      "provenance": [],
      "authorship_tag": "ABX9TyMLjWhVKOTBLHVVlh/SSSKJ",
      "include_colab_link": true
    },
    "kernelspec": {
      "name": "python3",
      "display_name": "Python 3"
    },
    "language_info": {
      "name": "python"
    }
  },
  "cells": [
    {
      "cell_type": "markdown",
      "metadata": {
        "id": "view-in-github",
        "colab_type": "text"
      },
      "source": [
        "<a href=\"https://colab.research.google.com/github/TheeratornP/DADS6003/blob/main/Kmeans.ipynb\" target=\"_parent\"><img src=\"https://colab.research.google.com/assets/colab-badge.svg\" alt=\"Open In Colab\"/></a>"
      ]
    },
    {
      "cell_type": "code",
      "execution_count": null,
      "metadata": {
        "id": "3-dsf2tJO9qC"
      },
      "outputs": [],
      "source": [
        "%matplotlib inline\n",
        "from sklearn.cluster import KMeans\n",
        "import numpy as np\n",
        "import matplotlib.pyplot as plt\n",
        "from sklearn.metrics import silhouette_samples, silhouette_score\n",
        "from sklearn.metrics import pairwise_distances_argmin\n",
        "import matplotlib.cm as cm\n",
        "import seaborn as sns; sns.set()  # for plot styling\n",
        "import pandas as pd\n",
        "from sklearn.preprocessing import LabelEncoder"
      ]
    },
    {
      "cell_type": "code",
      "source": [
        "df = pd.read_csv('https://raw.githubusercontent.com/ekaratnida/Applied-machine-learning/refs/heads/master/Week14-kmeans/Mall_Customers.csv')"
      ],
      "metadata": {
        "id": "Us_9lltgP0Ll"
      },
      "execution_count": null,
      "outputs": []
    },
    {
      "cell_type": "code",
      "source": [
        "df = df.drop('CustomerID', axis = 1)"
      ],
      "metadata": {
        "id": "fDJ3uh7jP6Nz"
      },
      "execution_count": null,
      "outputs": []
    },
    {
      "cell_type": "code",
      "source": [
        "label_encoder = LabelEncoder()\n",
        "df['Gender2'] = label_encoder.fit_transform(df['Gender'])\n",
        "#Male = 1, Female = 0"
      ],
      "metadata": {
        "id": "M_y_Vm6-QjPk"
      },
      "execution_count": null,
      "outputs": []
    },
    {
      "cell_type": "code",
      "source": [
        "df = df.drop('Gender', axis = 1)"
      ],
      "metadata": {
        "id": "A7hYA2QrRt5_"
      },
      "execution_count": null,
      "outputs": []
    },
    {
      "cell_type": "code",
      "source": [
        "print(df.dtypes)"
      ],
      "metadata": {
        "colab": {
          "base_uri": "https://localhost:8080/"
        },
        "id": "X2w1mCkERvLQ",
        "outputId": "338368db-af15-4af8-a6bb-4548ca1f098c"
      },
      "execution_count": null,
      "outputs": [
        {
          "output_type": "stream",
          "name": "stdout",
          "text": [
            "Age                       int64\n",
            "Annual Income (k$)        int64\n",
            "Spending Score (1-100)    int64\n",
            "Gender2                   int64\n",
            "dtype: object\n"
          ]
        }
      ]
    },
    {
      "cell_type": "code",
      "source": [
        "#Count of record\n",
        "df_count = df['Age'].count()\n",
        "print(df_count)"
      ],
      "metadata": {
        "colab": {
          "base_uri": "https://localhost:8080/"
        },
        "id": "9pMOmYW5TaPr",
        "outputId": "b4f32ca3-520f-4a62-93d4-94422569d193"
      },
      "execution_count": null,
      "outputs": [
        {
          "output_type": "stream",
          "name": "stdout",
          "text": [
            "200\n"
          ]
        }
      ]
    },
    {
      "cell_type": "code",
      "source": [
        "#Determine cluster range (from 2 to sample - 1)\n",
        "range_n_clusters = list(range(2, df_count))"
      ],
      "metadata": {
        "id": "wTygWKgRT_OA"
      },
      "execution_count": null,
      "outputs": []
    },
    {
      "cell_type": "code",
      "source": [
        "X = df.to_numpy()[:, [0, 1, 3]]"
      ],
      "metadata": {
        "id": "fl7OYKo8WNlK"
      },
      "execution_count": null,
      "outputs": []
    },
    {
      "cell_type": "code",
      "source": [
        "k_dict = {}\n",
        "for k in range_n_clusters:\n",
        "  clusterer = KMeans(n_clusters=k, random_state=10)\n",
        "  cluster_labels = clusterer.fit_predict(X)\n",
        "  silhouette_avg = silhouette_score(X, cluster_labels)\n",
        "  print(\n",
        "      \"For n_clusters =\",\n",
        "      k,\n",
        "      \"The average silhouette_score is :\",\n",
        "      silhouette_avg,\n",
        "  )\n",
        "  k_dict[k] = silhouette_avg"
      ],
      "metadata": {
        "colab": {
          "base_uri": "https://localhost:8080/"
        },
        "id": "33rKWKhuZIKc",
        "outputId": "7772202f-859e-4eb0-a4f8-e4ffb8440053"
      },
      "execution_count": null,
      "outputs": [
        {
          "output_type": "stream",
          "name": "stdout",
          "text": [
            "For n_clusters = 2 The average silhouette_score is : 0.4246460951993668\n",
            "For n_clusters = 3 The average silhouette_score is : 0.3600574636174072\n",
            "For n_clusters = 4 The average silhouette_score is : 0.3174883662738098\n",
            "For n_clusters = 5 The average silhouette_score is : 0.40097664802066085\n",
            "For n_clusters = 6 The average silhouette_score is : 0.3445930298016232\n",
            "For n_clusters = 7 The average silhouette_score is : 0.36120248428200086\n",
            "For n_clusters = 8 The average silhouette_score is : 0.3794487283124294\n",
            "For n_clusters = 9 The average silhouette_score is : 0.3593880793143894\n",
            "For n_clusters = 10 The average silhouette_score is : 0.35237155804725956\n",
            "For n_clusters = 11 The average silhouette_score is : 0.36184324494544284\n",
            "For n_clusters = 12 The average silhouette_score is : 0.40028671057753074\n",
            "For n_clusters = 13 The average silhouette_score is : 0.3875498885017703\n",
            "For n_clusters = 14 The average silhouette_score is : 0.38730105521763064\n",
            "For n_clusters = 15 The average silhouette_score is : 0.374653333241046\n",
            "For n_clusters = 16 The average silhouette_score is : 0.3584334413748011\n",
            "For n_clusters = 17 The average silhouette_score is : 0.39085544972962183\n",
            "For n_clusters = 18 The average silhouette_score is : 0.3894689383662623\n",
            "For n_clusters = 19 The average silhouette_score is : 0.38808336541094507\n",
            "For n_clusters = 20 The average silhouette_score is : 0.3830820599440955\n",
            "For n_clusters = 21 The average silhouette_score is : 0.40201280865621597\n",
            "For n_clusters = 22 The average silhouette_score is : 0.3998494459695348\n",
            "For n_clusters = 23 The average silhouette_score is : 0.40451797640534737\n",
            "For n_clusters = 24 The average silhouette_score is : 0.42727580661228787\n",
            "For n_clusters = 25 The average silhouette_score is : 0.41524011702334057\n",
            "For n_clusters = 26 The average silhouette_score is : 0.40971919057797423\n",
            "For n_clusters = 27 The average silhouette_score is : 0.4047051719892983\n",
            "For n_clusters = 28 The average silhouette_score is : 0.40304242355978126\n",
            "For n_clusters = 29 The average silhouette_score is : 0.40292287909612307\n",
            "For n_clusters = 30 The average silhouette_score is : 0.40035275233116624\n",
            "For n_clusters = 31 The average silhouette_score is : 0.40317169918514395\n",
            "For n_clusters = 32 The average silhouette_score is : 0.40239272522721764\n",
            "For n_clusters = 33 The average silhouette_score is : 0.4111911437429214\n",
            "For n_clusters = 34 The average silhouette_score is : 0.4155083598503594\n",
            "For n_clusters = 35 The average silhouette_score is : 0.41600838585322464\n",
            "For n_clusters = 36 The average silhouette_score is : 0.42256647975456446\n",
            "For n_clusters = 37 The average silhouette_score is : 0.4282915270749183\n",
            "For n_clusters = 38 The average silhouette_score is : 0.42684338431458274\n",
            "For n_clusters = 39 The average silhouette_score is : 0.4228558533750345\n",
            "For n_clusters = 40 The average silhouette_score is : 0.42301233293070084\n",
            "For n_clusters = 41 The average silhouette_score is : 0.4233562041791445\n",
            "For n_clusters = 42 The average silhouette_score is : 0.4233762704154038\n",
            "For n_clusters = 43 The average silhouette_score is : 0.42258635334669775\n",
            "For n_clusters = 44 The average silhouette_score is : 0.4234223910868007\n",
            "For n_clusters = 45 The average silhouette_score is : 0.4206454278219354\n",
            "For n_clusters = 46 The average silhouette_score is : 0.41971152453883465\n",
            "For n_clusters = 47 The average silhouette_score is : 0.4162340958911902\n",
            "For n_clusters = 48 The average silhouette_score is : 0.41716372700289656\n",
            "For n_clusters = 49 The average silhouette_score is : 0.40855369945181635\n",
            "For n_clusters = 50 The average silhouette_score is : 0.410911096367765\n",
            "For n_clusters = 51 The average silhouette_score is : 0.401731590399399\n",
            "For n_clusters = 52 The average silhouette_score is : 0.3975045453002353\n",
            "For n_clusters = 53 The average silhouette_score is : 0.400800684125387\n",
            "For n_clusters = 54 The average silhouette_score is : 0.39530470429606196\n",
            "For n_clusters = 55 The average silhouette_score is : 0.4098262855932924\n",
            "For n_clusters = 56 The average silhouette_score is : 0.40671275491476405\n",
            "For n_clusters = 57 The average silhouette_score is : 0.41197541421330114\n",
            "For n_clusters = 58 The average silhouette_score is : 0.41138377726399056\n",
            "For n_clusters = 59 The average silhouette_score is : 0.4160361777640594\n",
            "For n_clusters = 60 The average silhouette_score is : 0.41419934682703785\n",
            "For n_clusters = 61 The average silhouette_score is : 0.410577092285362\n",
            "For n_clusters = 62 The average silhouette_score is : 0.4089660013610624\n",
            "For n_clusters = 63 The average silhouette_score is : 0.40728789286124867\n",
            "For n_clusters = 64 The average silhouette_score is : 0.4093514955898325\n",
            "For n_clusters = 65 The average silhouette_score is : 0.4094422985371223\n",
            "For n_clusters = 66 The average silhouette_score is : 0.4012866210879591\n",
            "For n_clusters = 67 The average silhouette_score is : 0.40865848239849223\n",
            "For n_clusters = 68 The average silhouette_score is : 0.40825121365150396\n",
            "For n_clusters = 69 The average silhouette_score is : 0.3984927653606395\n",
            "For n_clusters = 70 The average silhouette_score is : 0.3931379174501776\n",
            "For n_clusters = 71 The average silhouette_score is : 0.3907078532390621\n",
            "For n_clusters = 72 The average silhouette_score is : 0.39150323255890357\n",
            "For n_clusters = 73 The average silhouette_score is : 0.38639872761100036\n",
            "For n_clusters = 74 The average silhouette_score is : 0.38161167287140335\n",
            "For n_clusters = 75 The average silhouette_score is : 0.3835838258479828\n",
            "For n_clusters = 76 The average silhouette_score is : 0.3887671690008528\n",
            "For n_clusters = 77 The average silhouette_score is : 0.3904060511857939\n",
            "For n_clusters = 78 The average silhouette_score is : 0.3863876051381485\n",
            "For n_clusters = 79 The average silhouette_score is : 0.38373000086885495\n",
            "For n_clusters = 80 The average silhouette_score is : 0.3793658032005017\n",
            "For n_clusters = 81 The average silhouette_score is : 0.3797602828409509\n",
            "For n_clusters = 82 The average silhouette_score is : 0.376734899789774\n",
            "For n_clusters = 83 The average silhouette_score is : 0.37656543057171066\n",
            "For n_clusters = 84 The average silhouette_score is : 0.36964608326305415\n",
            "For n_clusters = 85 The average silhouette_score is : 0.37154448976077886\n",
            "For n_clusters = 86 The average silhouette_score is : 0.36826935576550457\n",
            "For n_clusters = 87 The average silhouette_score is : 0.3718174842537255\n",
            "For n_clusters = 88 The average silhouette_score is : 0.36900017897252213\n",
            "For n_clusters = 89 The average silhouette_score is : 0.36769594037314535\n",
            "For n_clusters = 90 The average silhouette_score is : 0.3703470640891118\n",
            "For n_clusters = 91 The average silhouette_score is : 0.3671641777386153\n",
            "For n_clusters = 92 The average silhouette_score is : 0.3658697840030587\n",
            "For n_clusters = 93 The average silhouette_score is : 0.3612782505163677\n",
            "For n_clusters = 94 The average silhouette_score is : 0.3581897926327454\n",
            "For n_clusters = 95 The average silhouette_score is : 0.3534406940438343\n",
            "For n_clusters = 96 The average silhouette_score is : 0.3504008308011633\n",
            "For n_clusters = 97 The average silhouette_score is : 0.3474755960025422\n",
            "For n_clusters = 98 The average silhouette_score is : 0.3425800059300434\n",
            "For n_clusters = 99 The average silhouette_score is : 0.34133846661394346\n",
            "For n_clusters = 100 The average silhouette_score is : 0.34050485751876\n",
            "For n_clusters = 101 The average silhouette_score is : 0.3406460793265568\n",
            "For n_clusters = 102 The average silhouette_score is : 0.3364588555719138\n",
            "For n_clusters = 103 The average silhouette_score is : 0.3396848748499992\n",
            "For n_clusters = 104 The average silhouette_score is : 0.33749510470357824\n",
            "For n_clusters = 105 The average silhouette_score is : 0.33984784744496854\n",
            "For n_clusters = 106 The average silhouette_score is : 0.33434001923131407\n",
            "For n_clusters = 107 The average silhouette_score is : 0.33695484838361905\n",
            "For n_clusters = 108 The average silhouette_score is : 0.33587495595815786\n",
            "For n_clusters = 109 The average silhouette_score is : 0.33319039813418583\n",
            "For n_clusters = 110 The average silhouette_score is : 0.33051889256653083\n",
            "For n_clusters = 111 The average silhouette_score is : 0.32392521620474085\n",
            "For n_clusters = 112 The average silhouette_score is : 0.318661747011841\n",
            "For n_clusters = 113 The average silhouette_score is : 0.3268522141194431\n",
            "For n_clusters = 114 The average silhouette_score is : 0.32247161167861327\n",
            "For n_clusters = 115 The average silhouette_score is : 0.3177191751584042\n",
            "For n_clusters = 116 The average silhouette_score is : 0.31179896037521104\n",
            "For n_clusters = 117 The average silhouette_score is : 0.30713961163437153\n",
            "For n_clusters = 118 The average silhouette_score is : 0.3047503329044968\n",
            "For n_clusters = 119 The average silhouette_score is : 0.2985870862124913\n",
            "For n_clusters = 120 The average silhouette_score is : 0.2923009286683023\n",
            "For n_clusters = 121 The average silhouette_score is : 0.29163536069345103\n",
            "For n_clusters = 122 The average silhouette_score is : 0.2937544018304826\n",
            "For n_clusters = 123 The average silhouette_score is : 0.2958327761869283\n",
            "For n_clusters = 124 The average silhouette_score is : 0.29478861409690355\n",
            "For n_clusters = 125 The average silhouette_score is : 0.2949410983724537\n",
            "For n_clusters = 126 The average silhouette_score is : 0.2955471782205452\n",
            "For n_clusters = 127 The average silhouette_score is : 0.2972691577032361\n",
            "For n_clusters = 128 The average silhouette_score is : 0.29464133800824954\n",
            "For n_clusters = 129 The average silhouette_score is : 0.2932104288438046\n",
            "For n_clusters = 130 The average silhouette_score is : 0.28778058398250717\n",
            "For n_clusters = 131 The average silhouette_score is : 0.28400736394500675\n",
            "For n_clusters = 132 The average silhouette_score is : 0.27928742640362275\n",
            "For n_clusters = 133 The average silhouette_score is : 0.27485761875997694\n",
            "For n_clusters = 134 The average silhouette_score is : 0.269360416197691\n",
            "For n_clusters = 135 The average silhouette_score is : 0.2675635265628207\n",
            "For n_clusters = 136 The average silhouette_score is : 0.2650635265628207\n",
            "For n_clusters = 137 The average silhouette_score is : 0.26325563266856195\n",
            "For n_clusters = 138 The average silhouette_score is : 0.26432537770213593\n",
            "For n_clusters = 139 The average silhouette_score is : 0.2588449343543888\n",
            "For n_clusters = 140 The average silhouette_score is : 0.252374334580683\n",
            "For n_clusters = 141 The average silhouette_score is : 0.24877331204188993\n",
            "For n_clusters = 142 The average silhouette_score is : 0.24348569088711\n",
            "For n_clusters = 143 The average silhouette_score is : 0.2406183262713531\n",
            "For n_clusters = 144 The average silhouette_score is : 0.24060511384302535\n",
            "For n_clusters = 145 The average silhouette_score is : 0.23836811471089775\n",
            "For n_clusters = 146 The average silhouette_score is : 0.23862230217961053\n",
            "For n_clusters = 147 The average silhouette_score is : 0.23966057102173707\n",
            "For n_clusters = 148 The average silhouette_score is : 0.2359957015537559\n",
            "For n_clusters = 149 The average silhouette_score is : 0.21142548107123368\n",
            "For n_clusters = 150 The average silhouette_score is : 0.20892548107123368\n",
            "For n_clusters = 151 The average silhouette_score is : 0.2086778369569501\n",
            "For n_clusters = 152 The average silhouette_score is : 0.20888259829590358\n",
            "For n_clusters = 153 The average silhouette_score is : 0.20520715361624034\n",
            "For n_clusters = 154 The average silhouette_score is : 0.19701067171633113\n",
            "For n_clusters = 155 The average silhouette_score is : 0.19613802375334197\n",
            "For n_clusters = 156 The average silhouette_score is : 0.19024134129646553\n",
            "For n_clusters = 157 The average silhouette_score is : 0.1865154879899241\n",
            "For n_clusters = 158 The average silhouette_score is : 0.18231596295592886\n",
            "For n_clusters = 159 The average silhouette_score is : 0.17831415970737308\n",
            "For n_clusters = 160 The average silhouette_score is : 0.17201398299449808\n",
            "For n_clusters = 161 The average silhouette_score is : 0.1708480540883442\n",
            "For n_clusters = 162 The average silhouette_score is : 0.16801555788832057\n",
            "For n_clusters = 163 The average silhouette_score is : 0.16669675140103862\n",
            "For n_clusters = 164 The average silhouette_score is : 0.1635568869690005\n",
            "For n_clusters = 165 The average silhouette_score is : 0.16048545465611352\n",
            "For n_clusters = 166 The average silhouette_score is : 0.15560827397956142\n",
            "For n_clusters = 167 The average silhouette_score is : 0.14846140310066236\n",
            "For n_clusters = 168 The average silhouette_score is : 0.1413290242933961\n",
            "For n_clusters = 169 The average silhouette_score is : 0.13847944131169374\n",
            "For n_clusters = 170 The average silhouette_score is : 0.13349819982119798\n",
            "For n_clusters = 171 The average silhouette_score is : 0.13454722882731449\n",
            "For n_clusters = 172 The average silhouette_score is : 0.13302998163170596\n",
            "For n_clusters = 173 The average silhouette_score is : 0.12845983010509665\n",
            "For n_clusters = 174 The average silhouette_score is : 0.12464362004922414\n",
            "For n_clusters = 175 The average silhouette_score is : 0.11877246887637688\n",
            "For n_clusters = 176 The average silhouette_score is : 0.11627246887637688\n",
            "For n_clusters = 177 The average silhouette_score is : 0.11039725843329841\n",
            "For n_clusters = 178 The average silhouette_score is : 0.10452314877584432\n",
            "For n_clusters = 179 The average silhouette_score is : 0.10102393179023458\n",
            "For n_clusters = 180 The average silhouette_score is : 0.09772633061231968\n",
            "For n_clusters = 181 The average silhouette_score is : 0.09349793249575221\n",
            "For n_clusters = 182 The average silhouette_score is : 0.09138468384170034\n",
            "For n_clusters = 183 The average silhouette_score is : 0.09019424852324441\n",
            "For n_clusters = 184 The average silhouette_score is : 0.08419808345371056\n",
            "For n_clusters = 185 The average silhouette_score is : 0.08273361735964331\n",
            "For n_clusters = 186 The average silhouette_score is : 0.07746968533714309\n",
            "For n_clusters = 187 The average silhouette_score is : 0.07324128722057562\n",
            "For n_clusters = 188 The average silhouette_score is : 0.0674079538872423\n",
            "For n_clusters = 189 The average silhouette_score is : 0.06283055282772197\n",
            "For n_clusters = 190 The average silhouette_score is : 0.05925283807960284\n",
            "For n_clusters = 191 The average silhouette_score is : 0.0556751233314837\n",
            "For n_clusters = 192 The average silhouette_score is : 0.0531751233314837\n",
            "For n_clusters = 193 The average silhouette_score is : 0.05171065723741644\n",
            "For n_clusters = 194 The average silhouette_score is : 0.045527864045000414\n",
            "For n_clusters = 195 The average silhouette_score is : 0.04526393202250021\n",
            "For n_clusters = 196 The average silhouette_score is : 0.04\n",
            "For n_clusters = 197 The average silhouette_score is : 0.04\n",
            "For n_clusters = 198 The average silhouette_score is : 0.04\n",
            "For n_clusters = 199 The average silhouette_score is : 0.04\n"
          ]
        },
        {
          "output_type": "stream",
          "name": "stderr",
          "text": [
            "/usr/local/lib/python3.10/dist-packages/sklearn/base.py:1473: ConvergenceWarning: Number of distinct clusters (196) found smaller than n_clusters (197). Possibly due to duplicate points in X.\n",
            "  return fit_method(estimator, *args, **kwargs)\n",
            "/usr/local/lib/python3.10/dist-packages/sklearn/base.py:1473: ConvergenceWarning: Number of distinct clusters (196) found smaller than n_clusters (198). Possibly due to duplicate points in X.\n",
            "  return fit_method(estimator, *args, **kwargs)\n",
            "/usr/local/lib/python3.10/dist-packages/sklearn/base.py:1473: ConvergenceWarning: Number of distinct clusters (196) found smaller than n_clusters (199). Possibly due to duplicate points in X.\n",
            "  return fit_method(estimator, *args, **kwargs)\n"
          ]
        }
      ]
    },
    {
      "cell_type": "code",
      "source": [
        "#Getting the best number of cluster by using maximum of silhouette score\n",
        "best_cluster_num = max(k_dict, key = k_dict.get)\n",
        "print(f'The best K is {best_cluster_num}')"
      ],
      "metadata": {
        "colab": {
          "base_uri": "https://localhost:8080/"
        },
        "id": "Hr0Q44IXbTRQ",
        "outputId": "197cda6f-45dd-40a5-e7ec-b2c5c1f34ca8"
      },
      "execution_count": null,
      "outputs": [
        {
          "output_type": "stream",
          "name": "stdout",
          "text": [
            "The best K is 37\n"
          ]
        }
      ]
    }
  ]
}